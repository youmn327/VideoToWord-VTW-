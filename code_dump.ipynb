{
 "cells": [
  {
   "cell_type": "markdown",
   "metadata": {},
   "source": [
    "https://puleugo.tistory.com/26\n",
    "\n",
    "음원 분리 모듈 오픈소스\n",
    "\n",
    "Spleeter은 Python으로 작성된 사전 훈련 모델을 보유하고 있는 Deezer 음원 분리 라이브러리이 Tensorflow를 사용합니다. 음원 분리 모델을 쉽게 훈련할 수 있으며(분리된 소스의 데이터 세트가 필요) 다양한 분리 방식을 수행하기 위해 이미 훈련된 최첨단 모델을 제공합니다.\n",
    "\n",
    "\n",
    "다른 PC에서 동작할때는 venv의 python 설치 경로를 다른 PC 경로로 적용해야한다.\n"
   ]
  },
  {
   "cell_type": "code",
   "execution_count": null,
   "metadata": {
    "vscode": {
     "languageId": "plaintext"
    }
   },
   "outputs": [],
   "source": [
    "import os\n",
    "# 2stems = vocals and accompaniment\n",
    "# 4stems = vocals, drums, bass, and other\n",
    "# 5stems = vocals, drums, bass, piano, and other\n",
    "stems = str(input('stems 선택 : 2, 4, 5 >>>'))\n",
    "path = str(input(r'파일이 있는 경로를 정해주세요. >>>'))\n",
    "os.chdir(path)\n",
    "file_name = str(input('음악 파일의 이름을 적어주세요. >>>'))\n",
    "\n",
    "nsfile_name = file_name.replace(' ', '_')\n",
    "\n",
    "try:\n",
    "    os.rename(path+file_name+'.mp3', path+nsfile_name+'.mp3')\n",
    "except FileNotFoundError:\n",
    "    pass\n",
    "print('기다려주세요.')\n",
    "spl = r'spleeter separate -p spleeter:' + \\\n",
    "    str(stems)+r'stems -o output '+nsfile_name+'.mp3'\n",
    "# 'spleeter separate -p spleeter:2stems -o output my_song.mp3'\n",
    "os.system(spl)"
   ]
  },
  {
   "cell_type": "markdown",
   "metadata": {},
   "source": [
    "은닉 마르코프 모형\n",
    "비디오 => 오디오 => 텍스트"
   ]
  },
  {
   "cell_type": "code",
   "execution_count": null,
   "metadata": {},
   "outputs": [],
   "source": [
    "import subprocess\n",
    "\n",
    "\n",
    "command = \"ffmpeg -i {} -ab 160k -ac 2 -ar 44100 -vn {}\".format(item, os.path.join(this_path, save_file_id))\n",
    "    \n",
    "subprocess.call(command, shell=True)\n",
    "\"\"\"\n",
    "import subprocess\n",
    "import os\n",
    "def MP4_to_WAV(MP4_item,this_path,save_file_id):\n",
    "    print(\"NMWENTER\")\n",
    "    command = \"ffmpeg -i {} -ab 160k -ac 2 -ar 44100 -vn {}\".format(MP4_item, os.path.join(this_path, save_file_id))\n",
    "    subprocess.call(command, shell=True)\n",
    "    print(\"NMWENTER\")\n",
    "\n",
    "\"\"\""
   ]
  },
  {
   "cell_type": "code",
   "execution_count": null,
   "metadata": {},
   "outputs": [],
   "source": []
  }
 ],
 "metadata": {
  "language_info": {
   "name": "python"
  },
  "orig_nbformat": 4
 },
 "nbformat": 4,
 "nbformat_minor": 2
}
